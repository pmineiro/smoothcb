{
 "cells": [
  {
   "cell_type": "code",
   "execution_count": 1,
   "id": "fd8b9b66",
   "metadata": {},
   "outputs": [],
   "source": [
    "import json\n",
    "import matplotlib.pyplot as plt\n",
    "import matplotlib as mpl\n",
    "import pandas as pd"
   ]
  },
  {
   "cell_type": "code",
   "execution_count": 34,
   "id": "bd669106",
   "metadata": {},
   "outputs": [],
   "source": [
    "def watercolor(dfs):\n",
    "    with plt.style.context('seaborn-whitegrid'): \n",
    "        plt.figure(figsize=(3.4,2))\n",
    "        \n",
    "        for n, (label, df) in enumerate(dfs):    \n",
    "            # plot the 3rd stdv        \n",
    "            color = f'C{n}'\n",
    "            plt.fill_between(df.x, df['low'], df['hi'], alpha=0.5, color=color)\n",
    "            plt.plot(df.x, df['val'], color=color, label=label)\n",
    "            \n",
    "        plt.rc('legend', fontsize=8)   # legend fontsize\n",
    "\n",
    "        plt.xlim(0, 100)\n",
    "        plt.xlabel(r'$10^3$ examples')\n",
    "        plt.ylabel('regret')\n",
    "        plt.legend(frameon=True, loc='lower right')\n",
    "        plt.tight_layout()\n",
    "\n",
    "    plt.savefig('newyorker.pdf', bbox_inches='tight')\n",
    "    plt.show()"
   ]
  },
  {
   "cell_type": "markdown",
   "id": "a93428dd",
   "metadata": {},
   "source": [
    "```console\n",
    "% python ./munge_zn.py data_from_zhu_novak.txt > munge_zn.json\n",
    "% python ./booty-res.py run-squarecbcorral.res > run-squarecbcorral.boot.json\n",
    "```"
   ]
  },
  {
   "cell_type": "code",
   "execution_count": 38,
   "id": "8f936c5a",
   "metadata": {},
   "outputs": [
    {
     "data": {
      "image/png": "[encoded data removed]",
      "text/plain": [
       "<Figure size 244.8x144 with 1 Axes>"
      ]
     },
     "metadata": {},
     "output_type": "display_data"
    }
   ],
   "source": [
    "def flass():\n",
    "    from math import sqrt\n",
    "    \n",
    "    dfs = {}\n",
    "    \n",
    "    with open('run-squarecbcorral.boot.json') as f:\n",
    "        ours = json.load(f)\n",
    "        dfs['(ours)'] = pd.DataFrame([ (n // 1000, n*(1-adjhi), n*(1-mid), n*(1-adjlo), mid)\n",
    "                                       for k, (m, lo, hi) in ours.items() \n",
    "                                       for n in (int(k),)\n",
    "                                       for mid in ((lo+hi)/2,) \n",
    "                                       for adjlo in (mid+sqrt(m)*(lo-mid),)\n",
    "                                       for adjhi in (mid+sqrt(m)*(hi-mid),)\n",
    "                                     ],\n",
    "                                     columns=('x', 'low', 'val', 'hi', 'mid'))\n",
    "            \n",
    "    rename = { #'alg:MOSS Oracle': 'MOSS Oracle',\n",
    "               'alg:empMOSS++ (ours)': 'empMOSS++'\n",
    "             }\n",
    "    with open('munge_zn.json') as f:\n",
    "        zhunovak = json.load(f)\n",
    "        for alg, name in rename.items():\n",
    "            ave = zhunovak[alg]['ave:']\n",
    "            std = zhunovak[alg]['std:']\n",
    "            assert len(ave) == len(std)\n",
    "            dfs[name] = pd.DataFrame([ ((200 * x) // 1000, mu - s, mu, mu + s) for x, (mu, s) in enumerate(zip(ave, std)) ], \n",
    "                                     columns=('x', 'low', 'val', 'hi'))\n",
    "            \n",
    "    watercolor([ (k, v) for k, v in dfs.items() ])\n",
    "\n",
    "flass()"
   ]
  },
  {
   "cell_type": "code",
   "execution_count": null,
   "id": "dc037bfd",
   "metadata": {},
   "outputs": [],
   "source": []
  }
 ],
 "metadata": {
  "kernelspec": {
   "display_name": "Python 3.8 - Pytorch and Tensorflow",
   "language": "python",
   "name": "azureml_py38_pt_tf"
  },
  "language_info": {
   "codemirror_mode": {
    "name": "ipython",
    "version": 3
   },
   "file_extension": ".py",
   "mimetype": "text/x-python",
   "name": "python",
   "nbconvert_exporter": "python",
   "pygments_lexer": "ipython3",
   "version": "3.8.1"
  }
 },
 "nbformat": 4,
 "nbformat_minor": 5
}
